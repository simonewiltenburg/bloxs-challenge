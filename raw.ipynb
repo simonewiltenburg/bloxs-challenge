{
 "cells": [
  {
   "cell_type": "code",
   "execution_count": 3,
   "id": "9434a4da",
   "metadata": {},
   "outputs": [],
   "source": []
  },
  {
   "cell_type": "code",
   "execution_count": 25,
   "id": "77c0b7e5",
   "metadata": {},
   "outputs": [],
   "source": [
    "import pandas as pd\n",
    "\n",
    "def read_csv_pandas(csv_name):\n",
    "    return pd.read_csv(csv_name)\n",
    "\n",
    "def col_to_datetime(df, col_name):\n",
    "    df[col_name] = pd.to_datetime(df[col_name])\n",
    "    return df\n",
    "\n",
    "def read_target_csv():\n",
    "    # nome do arquivo que contém o target\n",
    "    csv_name = \"volume_emissao.csv\"\n",
    "    \n",
    "    # Lê o csv e coloca dentro de dataframe pandas\n",
    "    df = read_csv_pandas(csv_name)\n",
    "    \n",
    "    # altera para datetime \n",
    "    df = col_to_datetime(df, 'EMISSAO')\n",
    "    \n",
    "    # cria feature \n",
    "    df['mes'] = df['EMISSAO'].dt.strftime('%Y-%m')#.astype(int)\n",
    "#    df['ano_emissao'] = df['EMISSAO'].dt.strftime('%Y')\n",
    "    \n",
    "    # agrupa pelo mês da emissão \n",
    "    df_por_mes = df[['mes',\n",
    "                     'VOLUME DA EMISSAO']].groupby(by = 'mes').sum()#.astype(str)\n",
    "    df_por_mes = df_por_mes.reset_index()\n",
    "    \n",
    "    return df_por_mes\n",
    "\n",
    "def read_features_csv():\n",
    "    # \n",
    "    csv_name = 'Cópia de Indicadores - Desafio Técnico - Indicadores absolutos (1).csv'\n",
    "    \n",
    "    # Lê o dataframe de features\n",
    "    df = read_csv_pandas(csv_name)\n",
    "    \n",
    "    df = col_to_datetime(df, 'Data')\n",
    "    \n",
    "    # cria feature \n",
    "    df['mes'] = df['Data'].dt.strftime('%Y-%m')#.astype(int)\n",
    "    df['ano_data'] = df['Data'].dt.strftime('%Y')\n",
    "    \n",
    "    return df\n",
    "\n",
    "def main():\n",
    "    df = read_target_csv()\n",
    "    features_df = read_features_csv()\n",
    "    features_df = features_df.merge(df,\n",
    "                                    how = 'right',\n",
    "                                    on = 'mes')\n",
    "    \n",
    "    features_df.to_csv('dataset.csv')\n",
    "    \n",
    "main()"
   ]
  },
  {
   "cell_type": "code",
   "execution_count": null,
   "id": "7c2a615b",
   "metadata": {},
   "outputs": [],
   "source": []
  },
  {
   "cell_type": "code",
   "execution_count": null,
   "id": "8ebe2f2a",
   "metadata": {},
   "outputs": [],
   "source": []
  },
  {
   "cell_type": "code",
   "execution_count": null,
   "id": "b199bde9",
   "metadata": {},
   "outputs": [],
   "source": []
  }
 ],
 "metadata": {
  "kernelspec": {
   "display_name": "Python 3 (ipykernel)",
   "language": "python",
   "name": "python3"
  },
  "language_info": {
   "codemirror_mode": {
    "name": "ipython",
    "version": 3
   },
   "file_extension": ".py",
   "mimetype": "text/x-python",
   "name": "python",
   "nbconvert_exporter": "python",
   "pygments_lexer": "ipython3",
   "version": "3.10.9"
  }
 },
 "nbformat": 4,
 "nbformat_minor": 5
}
