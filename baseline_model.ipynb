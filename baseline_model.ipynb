{
 "cells": [
  {
   "cell_type": "code",
   "execution_count": null,
   "id": "d2182839",
   "metadata": {},
   "outputs": [],
   "source": [
    "este notebook faz o treinamento do modelo e a predição"
   ]
  },
  {
   "cell_type": "code",
   "execution_count": null,
   "id": "99c58444",
   "metadata": {},
   "outputs": [],
   "source": [
    "import pandas as pd\n",
    "import numpy as np\n",
    "\n",
    "import pickle\n",
    "\n",
    "import lightgbm as lgb\n",
    "from sklearn.metrics import mean_absolute_error, mean_squared_error, r2_score\n",
    "from sklearn.model_selection import KFold, cross_val_score\n",
    "from sklearn import model_selection, preprocessing, metrics\n",
    "import plotly.express as px \n",
    "import shap\n",
    "\n",
    "import matplotlib\n",
    "%matplotlib inline\n",
    "\n",
    "from matplotlib.pylab import rcParams\n",
    "rcParams['figure.figsize'] = 12, 4"
   ]
  },
  {
   "cell_type": "code",
   "execution_count": 2,
   "id": "0e7eef8d",
   "metadata": {},
   "outputs": [],
   "source": [
    "def get_data():\n",
    "    csv_name = 'dataset.csv'\n",
    "    df = pd.read_csv(csv_name, index_col=[0])\n",
    "    return df \n",
    "\n",
    "def split_data(df, initial_date, final_date):\n",
    "    mask = (df['Data'] > initial_date) & (df['Data'] <= final_date)\n",
    "    new_df = df.loc[mask].reset_index(drop = True)\n",
    "    \n",
    "    # pegando somente as colunas de features\n",
    "    X = new_df.iloc[:, 1:20]\n",
    "    print(X.columns)\n",
    "    \n",
    "    y = new_df['VOLUME DA EMISSAO']\n",
    "    \n",
    "    return new_df, X, y"
   ]
  },
  {
   "cell_type": "code",
   "execution_count": 79,
   "id": "1f0d675b",
   "metadata": {},
   "outputs": [
    {
     "name": "stdout",
     "output_type": "stream",
     "text": [
      "Index(['INCC', 'IPCA', 'ICC', 'ICE', 'Taxa_de_Desemprego',\n",
      "       'Quantidade_de_cotas', 'Numero_de_cotistas', 'CGI', 'CDI', 'Dolar',\n",
      "       'Ibovespa', 'IFIX', 'IGP-M',\n",
      "       'indice_Teva_de_Fundos_Imobiliarios_de_Papel',\n",
      "       'indice_Teva_de_Fundos_Imobiliarios_de_Tijolo', 'Poupança',\n",
      "       'S&P_South_Africa_REIT', 'Selic', 'Taxa_Referencial'],\n",
      "      dtype='object')\n",
      "Index(['INCC', 'IPCA', 'ICC', 'ICE', 'Taxa_de_Desemprego',\n",
      "       'Quantidade_de_cotas', 'Numero_de_cotistas', 'CGI', 'CDI', 'Dolar',\n",
      "       'Ibovespa', 'IFIX', 'IGP-M',\n",
      "       'indice_Teva_de_Fundos_Imobiliarios_de_Papel',\n",
      "       'indice_Teva_de_Fundos_Imobiliarios_de_Tijolo', 'Poupança',\n",
      "       'S&P_South_Africa_REIT', 'Selic', 'Taxa_Referencial'],\n",
      "      dtype='object')\n"
     ]
    }
   ],
   "source": [
    "df = get_data()\n",
    "training_df, X_train, y_train = split_data(df, '2013-02-01', '2023-05-31')\n",
    "test_df, X_test, y_test = split_data(df, '2023-05-31', '2023-09-31')"
   ]
  },
  {
   "cell_type": "code",
   "execution_count": null,
   "id": "d6aa8bbd",
   "metadata": {},
   "outputs": [],
   "source": [
    "train_data = lgb.Dataset(X_train, label = y_train)\n",
    "valid_data = lgb.Dataset(X_test, label = y_test)\n",
    "\n",
    "def pred(model, features):\n",
    "    return model.predict(features)"
   ]
  },
  {
   "cell_type": "code",
   "execution_count": null,
   "id": "9f338266",
   "metadata": {},
   "outputs": [],
   "source": [
    "def cross_val(train_data, train_X, train_y):\n",
    "    \n",
    "    num_folds = 5\n",
    "    num_round = 1000\n",
    "    params = {\n",
    "        \"objective\": \"regression\",\n",
    "        \"metric\": \"mse\",\n",
    "        \"boosting_type\": \"gbdt\",\n",
    "        \"num_leaves\": 10,\n",
    "        \"learning_rate\": 0.05,\n",
    "        \"feature_fraction\": 0.67}\n",
    "    \n",
    "    kf = KFold(n_splits=num_folds, \n",
    "               shuffle=True, \n",
    "               random_state=42)\n",
    "\n",
    "    \n",
    "    cv_results = lgb.cv(\n",
    "        params,\n",
    "        train_data,\n",
    "        num_boost_round=num_round,\n",
    "        nfold=num_folds,\n",
    "        stratified=False,\n",
    "    )\n",
    "    \n",
    "    best_round = len(cv_results[\"valid l2-mean\"])\n",
    "\n",
    "    print('model')\n",
    "    model = lgb.train(params, train_data, num_boost_round=best_round)\n",
    "    \n",
    "    y_pred = pred(model, X_train)\n",
    "    \n",
    "    evals_result = {\n",
    "        \"y_pred\" : pred(model, train_X),\n",
    "        \"mse\" : format(mean_squared_error(train_y, y_pred), '.8f'),\n",
    "        \"mae\" : format(mean_absolute_error(train_y, y_pred), '.8f'),\n",
    "        \"rmse\" : format(np.sqrt(mean_squared_error(train_y, y_pred)), '.8f'),\n",
    "        \"r2\" : format(r2_score(train_y, y_pred), '.8f')\n",
    "    }\n",
    "\n",
    "    return model, evals_result\n",
    "\n",
    "model_crossval, evals_result_cv = cross_val(train_data, X_train, y_train)"
   ]
  },
  {
   "cell_type": "code",
   "execution_count": 69,
   "id": "2e98b630",
   "metadata": {},
   "outputs": [
    {
     "data": {
      "text/plain": [
       "{'y_pred': array([ 4.19752044e+08,  4.19752044e+08,  4.26758588e+08,  3.64842735e+08,\n",
       "         3.17963489e+08,  1.22118632e+09,  9.31399081e+08,  1.68716186e+09,\n",
       "         5.14842492e+09,  1.70462173e+09,  1.20372645e+09,  8.69504335e+08,\n",
       "         1.48116012e+09,  1.44893239e+09,  7.96021477e+08,  6.36677725e+08,\n",
       "         1.48922031e+09,  1.84628115e+08,  6.98620890e+08,  3.68240239e+09,\n",
       "         5.36633898e+08,  6.83763002e+08,  1.18346226e+09,  7.76459192e+08,\n",
       "         6.77265085e+08,  1.37879050e+09,  2.62753262e+08,  1.47453012e+09,\n",
       "         2.85132216e+08,  3.28809975e+08,  3.34968337e+08,  7.85631901e+08,\n",
       "         3.73501891e+08,  2.46191936e+08,  8.93670001e+08,  2.95596108e+08,\n",
       "         6.03243942e+08,  2.84803513e+08,  3.90758056e+09,  4.58302292e+07,\n",
       "        -4.89262368e+07,  1.13713770e+09,  1.00594548e+09,  1.10816472e+09,\n",
       "         5.03064347e+09,  3.87279472e+08,  1.25303907e+09,  7.90797551e+08,\n",
       "         2.15801318e+08,  5.50631658e+08,  5.79994588e+08,  3.53661958e+08,\n",
       "         3.36030558e+08,  1.00220594e+09,  3.20951333e+08,  2.25297798e+09,\n",
       "         1.23302235e+09,  1.63056568e+09,  1.21578324e+09,  1.67289440e+08,\n",
       "         1.42498251e+08,  1.20824581e+09,  4.72669055e+08,  6.09600921e+08,\n",
       "         7.67599394e+08,  6.30278422e+08,  1.22179327e+09,  4.26480240e+08,\n",
       "         5.90631503e+08,  9.48844185e+08,  1.96526763e+09,  9.33008197e+08,\n",
       "         1.07206820e+09,  1.06131000e+09,  6.18103341e+08,  1.77561311e+09,\n",
       "         1.37885901e+09,  2.33880491e+09,  2.25169099e+09,  1.74846305e+09,\n",
       "         2.14590928e+09,  3.14550067e+09,  4.22885747e+09,  1.68241036e+09,\n",
       "         1.07336629e+09,  9.70502749e+08,  5.54283082e+08,  1.09733998e+09,\n",
       "         1.69345844e+09,  2.30522357e+09,  1.42930968e+09,  1.78136940e+09,\n",
       "         1.53295926e+09,  1.71325045e+09,  2.44250017e+09,  1.59782082e+09,\n",
       "         1.38600341e+09,  2.21255674e+09,  3.96772859e+09,  3.51168692e+09,\n",
       "         2.57657693e+09,  3.86423515e+09,  4.22862866e+09,  4.10974050e+09,\n",
       "         4.26673134e+09,  3.87217557e+09,  5.79200320e+09,  2.01092417e+09,\n",
       "         3.30171963e+09,  2.81252428e+09,  3.70801026e+09,  2.15904517e+09,\n",
       "         6.66355518e+09,  6.82844200e+09,  5.97717334e+09,  4.32778806e+09,\n",
       "         4.17989577e+09,  4.33129418e+09,  4.46793973e+09,  1.29533777e+09,\n",
       "         2.11896767e+09,  3.16000201e+09,  2.04289715e+09,  1.15557993e+09]),\n",
       " 'mse': '214169938925226432.00000000',\n",
       " 'mae': '315299183.80668759',\n",
       " 'rmse': '462784981.30905938',\n",
       " 'r2': '0.92763957'}"
      ]
     },
     "execution_count": 69,
     "metadata": {},
     "output_type": "execute_result"
    }
   ],
   "source": [
    "evals_result_cv"
   ]
  },
  {
   "cell_type": "code",
   "execution_count": 71,
   "id": "4e0ce950",
   "metadata": {},
   "outputs": [
    {
     "data": {
      "text/plain": [
       "<Axes: title={'center': 'Feature importance'}, xlabel='Feature importance', ylabel='Features'>"
      ]
     },
     "execution_count": 71,
     "metadata": {},
     "output_type": "execute_result"
    },
    {
     "data": {
      "image/png": "[encoded data removed]",
      "text/plain": [
       "<Figure size 400x400 with 1 Axes>"
      ]
     },
     "metadata": {},
     "output_type": "display_data"
    }
   ],
   "source": [
    "lgb.plot_importance(model_crossval, figsize=(4,4), grid=False)"
   ]
  },
  {
   "cell_type": "code",
   "execution_count": 72,
   "id": "1f7348c2",
   "metadata": {},
   "outputs": [
    {
     "name": "stderr",
     "output_type": "stream",
     "text": [
      "No data for colormapping provided via 'c'. Parameters 'vmin', 'vmax' will be ignored\n"
     ]
    },
    {
     "data": {
      "image/png": "[encoded data removed]",
      "text/plain": [
       "<Figure size 800x910 with 2 Axes>"
      ]
     },
     "metadata": {},
     "output_type": "display_data"
    }
   ],
   "source": [
    "explainer = shap.Explainer(model_crossval)\n",
    "shap_values = explainer.shap_values(X_train)\n",
    "shap.summary_plot(shap_values, X_train)"
   ]
  },
  {
   "cell_type": "code",
   "execution_count": null,
   "id": "65a71653",
   "metadata": {},
   "outputs": [],
   "source": [
    "#shap.plots.force(explainer.expected_value, shap_values[-3], feature_names = X_train.columns)"
   ]
  },
  {
   "cell_type": "code",
   "execution_count": 102,
   "id": "647f4e4b",
   "metadata": {},
   "outputs": [
    {
     "name": "stdout",
     "output_type": "stream",
     "text": [
      "Index(['INCC', 'IPCA', 'ICC', 'ICE', 'Taxa_de_Desemprego',\n",
      "       'Quantidade_de_cotas', 'Numero_de_cotistas', 'CGI', 'CDI', 'Dolar',\n",
      "       'Ibovespa', 'IFIX', 'IGP-M',\n",
      "       'indice_Teva_de_Fundos_Imobiliarios_de_Papel',\n",
      "       'indice_Teva_de_Fundos_Imobiliarios_de_Tijolo', 'Poupança',\n",
      "       'S&P_South_Africa_REIT', 'Selic', 'Taxa_Referencial'],\n",
      "      dtype='object')\n"
     ]
    },
    {
     "data": {
      "application/vnd.plotly.v1+json": {
       "config": {
        "plotlyServerURL": "https://plot.ly"
       },
       "data": [
        {
         "alignmentgroup": "True",
         "hovertemplate": "Data=%{x}<br>VOLUME DA EMISSAO=%{y}<extra></extra>",
         "legendgroup": "",
         "marker": {
          "color": "#636efa",
          "pattern": {
           "shape": ""
          }
         },
         "name": "",
         "offsetgroup": "",
         "orientation": "v",
         "showlegend": false,
         "textposition": "auto",
         "type": "bar",
         "x": [
          "2013-02-28",
          "2013-03-28",
          "2013-04-30",
          "2013-05-31",
          "2013-06-28",
          "2013-07-31",
          "2013-08-30",
          "2013-09-30",
          "2013-10-31",
          "2013-11-29",
          "2013-12-31",
          "2014-01-31",
          "2014-02-28",
          "2014-03-31",
          "2014-04-30",
          "2014-05-30",
          "2014-06-30",
          "2014-07-31",
          "2014-08-29",
          "2014-09-30",
          "2014-10-31",
          "2014-11-28",
          "2014-12-31",
          "2015-01-30",
          "2015-02-27",
          "2015-03-31",
          "2015-04-30",
          "2015-05-29",
          "2015-06-30",
          "2015-07-31",
          "2015-08-31",
          "2015-09-30",
          "2015-10-30",
          "2015-11-30",
          "2015-12-31",
          "2016-01-29",
          "2016-02-29",
          "2016-03-31",
          "2016-04-29",
          "2016-05-31",
          "2016-06-30",
          "2016-07-29",
          "2016-08-31",
          "2016-09-30",
          "2016-10-31",
          "2016-11-30",
          "2016-12-30",
          "2017-01-31",
          "2017-02-24",
          "2017-03-31",
          "2017-04-28",
          "2017-05-31",
          "2017-06-30",
          "2017-07-31",
          "2017-08-31",
          "2017-09-29",
          "2017-10-31",
          "2017-11-30",
          "2017-12-29",
          "2018-01-31",
          "2018-02-28",
          "2018-03-29",
          "2018-04-30",
          "2018-05-30",
          "2018-06-29",
          "2018-07-31",
          "2018-08-31",
          "2018-09-28",
          "2018-10-31",
          "2018-11-30",
          "2018-12-31",
          "2019-01-31",
          "2019-02-28",
          "2019-03-29",
          "2019-04-30",
          "2019-05-31",
          "2019-06-28",
          "2019-07-31",
          "2019-08-30",
          "2019-09-30",
          "2019-10-31",
          "2019-11-29",
          "2019-12-31",
          "2020-01-31",
          "2020-02-28",
          "2020-03-31",
          "2020-04-30",
          "2020-05-29",
          "2020-06-30",
          "2020-07-31",
          "2020-08-31",
          "2020-09-30",
          "2020-10-30",
          "2020-11-30",
          "2020-12-31",
          "2021-01-29",
          "2021-02-26",
          "2021-03-31",
          "2021-04-30",
          "2021-05-31",
          "2021-06-30",
          "2021-07-30",
          "2021-08-31",
          "2021-09-30",
          "2021-10-29",
          "2021-11-30",
          "2021-12-31",
          "2022-01-31",
          "2022-02-25",
          "2022-03-31",
          "2022-04-29",
          "2022-05-31",
          "2022-06-30",
          "2022-07-29",
          "2022-08-31",
          "2022-09-30",
          "2022-10-31",
          "2022-11-30",
          "2022-12-30",
          "2023-01-31",
          "2023-02-28",
          "2023-03-31",
          "2023-04-28",
          "2023-05-31",
          "2023-06-30",
          "2023-07-31",
          "2023-08-31"
         ],
         "xaxis": "x",
         "y": [
          97651600.57,
          358280149.89,
          249891539.47,
          78817792.7,
          207047563.03,
          714947535.57,
          385532223.8,
          2729708432.75,
          7440566327.79,
          105739405.58,
          977986880.39,
          93159737.35,
          2444554953.49,
          2388987126.34,
          66430399.45,
          355618121.89,
          1674019511.41,
          192216882.2,
          873067981.51,
          3065622413.98,
          423026087.16,
          796383666.39,
          2186171410.64,
          410905708.74,
          355367699.54,
          1553053984.82,
          180628446.61,
          1704744918.65,
          292127802.84,
          51709924.93,
          617177875.79,
          1149496790.21,
          244954072.2,
          458310740.32,
          1004352240.05,
          177733984,
          27334303.28,
          120000000,
          4304829241.799999,
          262689720.32,
          217583110.52,
          740660553,
          375136448.47,
          620532992.78,
          6763220761.54,
          290573920,
          1398394282.53,
          135663663.57999998,
          251328307.71,
          551388342.4,
          364097770.41,
          253940291.7,
          473364964.34,
          868098740.39,
          529011213.79,
          2671396392.33,
          1126800233.81,
          1142159225.21,
          1281098177.16,
          14800000,
          147047347.13,
          1364354979.66,
          361130372.93,
          853492527.89,
          963616100.49,
          634520552.42,
          1343420451.91,
          241313622.98,
          550944336.36,
          514003642.63,
          2464493523.19,
          717667907.2099999,
          859223065.39,
          930257913.41,
          416532390.52,
          2238570688.32,
          1269484714.86,
          2526229205.68,
          2447629405.65,
          1459708860.44,
          2213911152.92,
          2914511795.61,
          4649206658.5,
          1563781440.77,
          1163381807,
          884731338.4,
          681350000,
          538752076.66,
          1781147046.17,
          2684857004.86,
          1335802925.23,
          1573695619.42,
          1623673218.48,
          1273469248.08,
          3105096365.32,
          1326762410.08,
          1342387150.74,
          2317657476.63,
          4212368141.61,
          3086360968.11,
          3019202406.02,
          3752980193.9,
          4341123002.01,
          4024371082.66,
          4189014930.96,
          3889204034.97,
          5867284957.74,
          1686674463.28,
          3279271181.68,
          2793504575.05,
          4221170535.22,
          1279135527.65,
          7201482197.32,
          6903106726,
          6123864570,
          3968122188.97,
          4489707883.11,
          4679140090,
          5247422638.77,
          1048765353.4,
          1875426874.19,
          3279135813.45,
          1580524000,
          693150967.53,
          6251813192.47,
          2928285878.25,
          2718951548
         ],
         "yaxis": "y"
        },
        {
         "name": "model predict",
         "type": "scatter",
         "x": [
          "2013-02-28",
          "2013-03-28",
          "2013-04-30",
          "2013-05-31",
          "2013-06-28",
          "2013-07-31",
          "2013-08-30",
          "2013-09-30",
          "2013-10-31",
          "2013-11-29",
          "2013-12-31",
          "2014-01-31",
          "2014-02-28",
          "2014-03-31",
          "2014-04-30",
          "2014-05-30",
          "2014-06-30",
          "2014-07-31",
          "2014-08-29",
          "2014-09-30",
          "2014-10-31",
          "2014-11-28",
          "2014-12-31",
          "2015-01-30",
          "2015-02-27",
          "2015-03-31",
          "2015-04-30",
          "2015-05-29",
          "2015-06-30",
          "2015-07-31",
          "2015-08-31",
          "2015-09-30",
          "2015-10-30",
          "2015-11-30",
          "2015-12-31",
          "2016-01-29",
          "2016-02-29",
          "2016-03-31",
          "2016-04-29",
          "2016-05-31",
          "2016-06-30",
          "2016-07-29",
          "2016-08-31",
          "2016-09-30",
          "2016-10-31",
          "2016-11-30",
          "2016-12-30",
          "2017-01-31",
          "2017-02-24",
          "2017-03-31",
          "2017-04-28",
          "2017-05-31",
          "2017-06-30",
          "2017-07-31",
          "2017-08-31",
          "2017-09-29",
          "2017-10-31",
          "2017-11-30",
          "2017-12-29",
          "2018-01-31",
          "2018-02-28",
          "2018-03-29",
          "2018-04-30",
          "2018-05-30",
          "2018-06-29",
          "2018-07-31",
          "2018-08-31",
          "2018-09-28",
          "2018-10-31",
          "2018-11-30",
          "2018-12-31",
          "2019-01-31",
          "2019-02-28",
          "2019-03-29",
          "2019-04-30",
          "2019-05-31",
          "2019-06-28",
          "2019-07-31",
          "2019-08-30",
          "2019-09-30",
          "2019-10-31",
          "2019-11-29",
          "2019-12-31",
          "2020-01-31",
          "2020-02-28",
          "2020-03-31",
          "2020-04-30",
          "2020-05-29",
          "2020-06-30",
          "2020-07-31",
          "2020-08-31",
          "2020-09-30",
          "2020-10-30",
          "2020-11-30",
          "2020-12-31",
          "2021-01-29",
          "2021-02-26",
          "2021-03-31",
          "2021-04-30",
          "2021-05-31",
          "2021-06-30",
          "2021-07-30",
          "2021-08-31",
          "2021-09-30",
          "2021-10-29",
          "2021-11-30",
          "2021-12-31",
          "2022-01-31",
          "2022-02-25",
          "2022-03-31",
          "2022-04-29",
          "2022-05-31",
          "2022-06-30",
          "2022-07-29",
          "2022-08-31",
          "2022-09-30",
          "2022-10-31",
          "2022-11-30",
          "2022-12-30",
          "2023-01-31",
          "2023-02-28",
          "2023-03-31",
          "2023-04-28",
          "2023-05-31",
          "2023-06-30",
          "2023-07-31",
          "2023-08-31"
         ],
         "y": [
          419752043.5017016,
          419752043.5017016,
          426758587.8232736,
          364842734.522708,
          317963489.31943023,
          1221186315.3364885,
          931399081.136101,
          1687161864.3821115,
          5148424923.347506,
          1704621732.7178988,
          1203726447.0007012,
          869504334.876319,
          1481160123.9815125,
          1448932389.8946526,
          796021477.4074235,
          636677725.4420706,
          1489220305.7094295,
          184628114.700467,
          698620889.7032702,
          3682402386.532944,
          536633897.8742056,
          683763001.6740044,
          1183462263.338756,
          776459191.9068964,
          677265084.6897058,
          1378790497.533906,
          262753261.87509915,
          1474530116.184795,
          285132216.42788315,
          328809974.5765476,
          334968336.8282144,
          785631900.8828893,
          373501890.60292554,
          246191935.70197508,
          893670000.6318597,
          295596107.91910076,
          603243942.4172914,
          284803513.33258295,
          3907580555.285199,
          45830229.23738141,
          -48926236.763298005,
          1137137698.779369,
          1005945476.9897691,
          1108164722.6194842,
          5030643466.474912,
          387279472.33717453,
          1253039070.5209148,
          790797551.1758555,
          215801317.7328609,
          550631658.2240634,
          579994587.7008046,
          353661957.7128442,
          336030557.9133754,
          1002205941.8200277,
          320951332.6044769,
          2252977980.208686,
          1233022354.9580917,
          1630565675.5324173,
          1215783239.2880228,
          167289440.16734707,
          142498250.87686238,
          1208245811.572841,
          472669054.8658549,
          609600920.7945963,
          767599393.6754034,
          630278421.9700688,
          1221793266.2274716,
          426480240.3242296,
          590631502.503354,
          948844184.5664207,
          1965267634.0473151,
          933008196.5252324,
          1072068198.4482207,
          1061309996.6041505,
          618103341.2730477,
          1775613110.098722,
          1378859007.9162567,
          2338804911.226955,
          2251690985.0710096,
          1748463046.4188132,
          2145909275.3502543,
          3145500670.9922585,
          4228857471.267088,
          1682410362.5862756,
          1073366289.7956134,
          970502748.9433267,
          554283082.2392293,
          1097339978.191137,
          1693458440.267512,
          2305223565.4379916,
          1429309677.397255,
          1781369402.3725526,
          1532959261.992009,
          1713250450.5317683,
          2442500170.0738134,
          1597820819.8743122,
          1386003408.3111656,
          2212556735.600944,
          3967728594.5060244,
          3511686923.2826853,
          2576576933.6599116,
          3864235147.4548006,
          4228628660.7561126,
          4109740497.5228915,
          4266731336.9621077,
          3872175573.8066807,
          5792003195.825149,
          2010924168.1316485,
          3301719630.490327,
          2812524280.5084624,
          3708010263.531007,
          2159045167.9916577,
          6663555177.840074,
          6828441995.387484,
          5977173341.285679,
          4327788059.106274,
          4179895771.7974486,
          4331294178.724978,
          4467939725.426089,
          1295337765.3098795,
          2118967672.1137233,
          3160002012.1506915,
          2042897151.8250747,
          1155579933.0106516,
          1987203013.7539458,
          1912510828.7904313,
          2795351351.794916
         ]
        }
       ],
       "layout": {
        "barmode": "relative",
        "legend": {
         "tracegroupgap": 0
        },
        "margin": {
         "t": 60
        },
        "template": {
         "data": {
          "bar": [
           {
            "error_x": {
             "color": "#2a3f5f"
            },
            "error_y": {
             "color": "#2a3f5f"
            },
            "marker": {
             "line": {
              "color": "#E5ECF6",
              "width": 0.5
             },
             "pattern": {
              "fillmode": "overlay",
              "size": 10,
              "solidity": 0.2
             }
            },
            "type": "bar"
           }
          ],
          "barpolar": [
           {
            "marker": {
             "line": {
              "color": "#E5ECF6",
              "width": 0.5
             },
             "pattern": {
              "fillmode": "overlay",
              "size": 10,
              "solidity": 0.2
             }
            },
            "type": "barpolar"
           }
          ],
          "carpet": [
           {
            "aaxis": {
             "endlinecolor": "#2a3f5f",
             "gridcolor": "white",
             "linecolor": "white",
             "minorgridcolor": "white",
             "startlinecolor": "#2a3f5f"
            },
            "baxis": {
             "endlinecolor": "#2a3f5f",
             "gridcolor": "white",
             "linecolor": "white",
             "minorgridcolor": "white",
             "startlinecolor": "#2a3f5f"
            },
            "type": "carpet"
           }
          ],
          "choropleth": [
           {
            "colorbar": {
             "outlinewidth": 0,
             "ticks": ""
            },
            "type": "choropleth"
           }
          ],
          "contour": [
           {
            "colorbar": {
             "outlinewidth": 0,
             "ticks": ""
            },
            "colorscale": [
             [
              0,
              "#0d0887"
             ],
             [
              0.1111111111111111,
              "#46039f"
             ],
             [
              0.2222222222222222,
              "#7201a8"
             ],
             [
              0.3333333333333333,
              "#9c179e"
             ],
             [
              0.4444444444444444,
              "#bd3786"
             ],
             [
              0.5555555555555556,
              "#d8576b"
             ],
             [
              0.6666666666666666,
              "#ed7953"
             ],
             [
              0.7777777777777778,
              "#fb9f3a"
             ],
             [
              0.8888888888888888,
              "#fdca26"
             ],
             [
              1,
              "#f0f921"
             ]
            ],
            "type": "contour"
           }
          ],
          "contourcarpet": [
           {
            "colorbar": {
             "outlinewidth": 0,
             "ticks": ""
            },
            "type": "contourcarpet"
           }
          ],
          "heatmap": [
           {
            "colorbar": {
             "outlinewidth": 0,
             "ticks": ""
            },
            "colorscale": [
             [
              0,
              "#0d0887"
             ],
             [
              0.1111111111111111,
              "#46039f"
             ],
             [
              0.2222222222222222,
              "#7201a8"
             ],
             [
              0.3333333333333333,
              "#9c179e"
             ],
             [
              0.4444444444444444,
              "#bd3786"
             ],
             [
              0.5555555555555556,
              "#d8576b"
             ],
             [
              0.6666666666666666,
              "#ed7953"
             ],
             [
              0.7777777777777778,
              "#fb9f3a"
             ],
             [
              0.8888888888888888,
              "#fdca26"
             ],
             [
              1,
              "#f0f921"
             ]
            ],
            "type": "heatmap"
           }
          ],
          "heatmapgl": [
           {
            "colorbar": {
             "outlinewidth": 0,
             "ticks": ""
            },
            "colorscale": [
             [
              0,
              "#0d0887"
             ],
             [
              0.1111111111111111,
              "#46039f"
             ],
             [
              0.2222222222222222,
              "#7201a8"
             ],
             [
              0.3333333333333333,
              "#9c179e"
             ],
             [
              0.4444444444444444,
              "#bd3786"
             ],
             [
              0.5555555555555556,
              "#d8576b"
             ],
             [
              0.6666666666666666,
              "#ed7953"
             ],
             [
              0.7777777777777778,
              "#fb9f3a"
             ],
             [
              0.8888888888888888,
              "#fdca26"
             ],
             [
              1,
              "#f0f921"
             ]
            ],
            "type": "heatmapgl"
           }
          ],
          "histogram": [
           {
            "marker": {
             "pattern": {
              "fillmode": "overlay",
              "size": 10,
              "solidity": 0.2
             }
            },
            "type": "histogram"
           }
          ],
          "histogram2d": [
           {
            "colorbar": {
             "outlinewidth": 0,
             "ticks": ""
            },
            "colorscale": [
             [
              0,
              "#0d0887"
             ],
             [
              0.1111111111111111,
              "#46039f"
             ],
             [
              0.2222222222222222,
              "#7201a8"
             ],
             [
              0.3333333333333333,
              "#9c179e"
             ],
             [
              0.4444444444444444,
              "#bd3786"
             ],
             [
              0.5555555555555556,
              "#d8576b"
             ],
             [
              0.6666666666666666,
              "#ed7953"
             ],
             [
              0.7777777777777778,
              "#fb9f3a"
             ],
             [
              0.8888888888888888,
              "#fdca26"
             ],
             [
              1,
              "#f0f921"
             ]
            ],
            "type": "histogram2d"
           }
          ],
          "histogram2dcontour": [
           {
            "colorbar": {
             "outlinewidth": 0,
             "ticks": ""
            },
            "colorscale": [
             [
              0,
              "#0d0887"
             ],
             [
              0.1111111111111111,
              "#46039f"
             ],
             [
              0.2222222222222222,
              "#7201a8"
             ],
             [
              0.3333333333333333,
              "#9c179e"
             ],
             [
              0.4444444444444444,
              "#bd3786"
             ],
             [
              0.5555555555555556,
              "#d8576b"
             ],
             [
              0.6666666666666666,
              "#ed7953"
             ],
             [
              0.7777777777777778,
              "#fb9f3a"
             ],
             [
              0.8888888888888888,
              "#fdca26"
             ],
             [
              1,
              "#f0f921"
             ]
            ],
            "type": "histogram2dcontour"
           }
          ],
          "mesh3d": [
           {
            "colorbar": {
             "outlinewidth": 0,
             "ticks": ""
            },
            "type": "mesh3d"
           }
          ],
          "parcoords": [
           {
            "line": {
             "colorbar": {
              "outlinewidth": 0,
              "ticks": ""
             }
            },
            "type": "parcoords"
           }
          ],
          "pie": [
           {
            "automargin": true,
            "type": "pie"
           }
          ],
          "scatter": [
           {
            "fillpattern": {
             "fillmode": "overlay",
             "size": 10,
             "solidity": 0.2
            },
            "type": "scatter"
           }
          ],
          "scatter3d": [
           {
            "line": {
             "colorbar": {
              "outlinewidth": 0,
              "ticks": ""
             }
            },
            "marker": {
             "colorbar": {
              "outlinewidth": 0,
              "ticks": ""
             }
            },
            "type": "scatter3d"
           }
          ],
          "scattercarpet": [
           {
            "marker": {
             "colorbar": {
              "outlinewidth": 0,
              "ticks": ""
             }
            },
            "type": "scattercarpet"
           }
          ],
          "scattergeo": [
           {
            "marker": {
             "colorbar": {
              "outlinewidth": 0,
              "ticks": ""
             }
            },
            "type": "scattergeo"
           }
          ],
          "scattergl": [
           {
            "marker": {
             "colorbar": {
              "outlinewidth": 0,
              "ticks": ""
             }
            },
            "type": "scattergl"
           }
          ],
          "scattermapbox": [
           {
            "marker": {
             "colorbar": {
              "outlinewidth": 0,
              "ticks": ""
             }
            },
            "type": "scattermapbox"
           }
          ],
          "scatterpolar": [
           {
            "marker": {
             "colorbar": {
              "outlinewidth": 0,
              "ticks": ""
             }
            },
            "type": "scatterpolar"
           }
          ],
          "scatterpolargl": [
           {
            "marker": {
             "colorbar": {
              "outlinewidth": 0,
              "ticks": ""
             }
            },
            "type": "scatterpolargl"
           }
          ],
          "scatterternary": [
           {
            "marker": {
             "colorbar": {
              "outlinewidth": 0,
              "ticks": ""
             }
            },
            "type": "scatterternary"
           }
          ],
          "surface": [
           {
            "colorbar": {
             "outlinewidth": 0,
             "ticks": ""
            },
            "colorscale": [
             [
              0,
              "#0d0887"
             ],
             [
              0.1111111111111111,
              "#46039f"
             ],
             [
              0.2222222222222222,
              "#7201a8"
             ],
             [
              0.3333333333333333,
              "#9c179e"
             ],
             [
              0.4444444444444444,
              "#bd3786"
             ],
             [
              0.5555555555555556,
              "#d8576b"
             ],
             [
              0.6666666666666666,
              "#ed7953"
             ],
             [
              0.7777777777777778,
              "#fb9f3a"
             ],
             [
              0.8888888888888888,
              "#fdca26"
             ],
             [
              1,
              "#f0f921"
             ]
            ],
            "type": "surface"
           }
          ],
          "table": [
           {
            "cells": {
             "fill": {
              "color": "#EBF0F8"
             },
             "line": {
              "color": "white"
             }
            },
            "header": {
             "fill": {
              "color": "#C8D4E3"
             },
             "line": {
              "color": "white"
             }
            },
            "type": "table"
           }
          ]
         },
         "layout": {
          "annotationdefaults": {
           "arrowcolor": "#2a3f5f",
           "arrowhead": 0,
           "arrowwidth": 1
          },
          "autotypenumbers": "strict",
          "coloraxis": {
           "colorbar": {
            "outlinewidth": 0,
            "ticks": ""
           }
          },
          "colorscale": {
           "diverging": [
            [
             0,
             "#8e0152"
            ],
            [
             0.1,
             "#c51b7d"
            ],
            [
             0.2,
             "#de77ae"
            ],
            [
             0.3,
             "#f1b6da"
            ],
            [
             0.4,
             "#fde0ef"
            ],
            [
             0.5,
             "#f7f7f7"
            ],
            [
             0.6,
             "#e6f5d0"
            ],
            [
             0.7,
             "#b8e186"
            ],
            [
             0.8,
             "#7fbc41"
            ],
            [
             0.9,
             "#4d9221"
            ],
            [
             1,
             "#276419"
            ]
           ],
           "sequential": [
            [
             0,
             "#0d0887"
            ],
            [
             0.1111111111111111,
             "#46039f"
            ],
            [
             0.2222222222222222,
             "#7201a8"
            ],
            [
             0.3333333333333333,
             "#9c179e"
            ],
            [
             0.4444444444444444,
             "#bd3786"
            ],
            [
             0.5555555555555556,
             "#d8576b"
            ],
            [
             0.6666666666666666,
             "#ed7953"
            ],
            [
             0.7777777777777778,
             "#fb9f3a"
            ],
            [
             0.8888888888888888,
             "#fdca26"
            ],
            [
             1,
             "#f0f921"
            ]
           ],
           "sequentialminus": [
            [
             0,
             "#0d0887"
            ],
            [
             0.1111111111111111,
             "#46039f"
            ],
            [
             0.2222222222222222,
             "#7201a8"
            ],
            [
             0.3333333333333333,
             "#9c179e"
            ],
            [
             0.4444444444444444,
             "#bd3786"
            ],
            [
             0.5555555555555556,
             "#d8576b"
            ],
            [
             0.6666666666666666,
             "#ed7953"
            ],
            [
             0.7777777777777778,
             "#fb9f3a"
            ],
            [
             0.8888888888888888,
             "#fdca26"
            ],
            [
             1,
             "#f0f921"
            ]
           ]
          },
          "colorway": [
           "#636efa",
           "#EF553B",
           "#00cc96",
           "#ab63fa",
           "#FFA15A",
           "#19d3f3",
           "#FF6692",
           "#B6E880",
           "#FF97FF",
           "#FECB52"
          ],
          "font": {
           "color": "#2a3f5f"
          },
          "geo": {
           "bgcolor": "white",
           "lakecolor": "white",
           "landcolor": "#E5ECF6",
           "showlakes": true,
           "showland": true,
           "subunitcolor": "white"
          },
          "hoverlabel": {
           "align": "left"
          },
          "hovermode": "closest",
          "mapbox": {
           "style": "light"
          },
          "paper_bgcolor": "white",
          "plot_bgcolor": "#E5ECF6",
          "polar": {
           "angularaxis": {
            "gridcolor": "white",
            "linecolor": "white",
            "ticks": ""
           },
           "bgcolor": "#E5ECF6",
           "radialaxis": {
            "gridcolor": "white",
            "linecolor": "white",
            "ticks": ""
           }
          },
          "scene": {
           "xaxis": {
            "backgroundcolor": "#E5ECF6",
            "gridcolor": "white",
            "gridwidth": 2,
            "linecolor": "white",
            "showbackground": true,
            "ticks": "",
            "zerolinecolor": "white"
           },
           "yaxis": {
            "backgroundcolor": "#E5ECF6",
            "gridcolor": "white",
            "gridwidth": 2,
            "linecolor": "white",
            "showbackground": true,
            "ticks": "",
            "zerolinecolor": "white"
           },
           "zaxis": {
            "backgroundcolor": "#E5ECF6",
            "gridcolor": "white",
            "gridwidth": 2,
            "linecolor": "white",
            "showbackground": true,
            "ticks": "",
            "zerolinecolor": "white"
           }
          },
          "shapedefaults": {
           "line": {
            "color": "#2a3f5f"
           }
          },
          "ternary": {
           "aaxis": {
            "gridcolor": "white",
            "linecolor": "white",
            "ticks": ""
           },
           "baxis": {
            "gridcolor": "white",
            "linecolor": "white",
            "ticks": ""
           },
           "bgcolor": "#E5ECF6",
           "caxis": {
            "gridcolor": "white",
            "linecolor": "white",
            "ticks": ""
           }
          },
          "title": {
           "x": 0.05
          },
          "xaxis": {
           "automargin": true,
           "gridcolor": "white",
           "linecolor": "white",
           "ticks": "",
           "title": {
            "standoff": 15
           },
           "zerolinecolor": "white",
           "zerolinewidth": 2
          },
          "yaxis": {
           "automargin": true,
           "gridcolor": "white",
           "linecolor": "white",
           "ticks": "",
           "title": {
            "standoff": 15
           },
           "zerolinecolor": "white",
           "zerolinewidth": 2
          }
         }
        },
        "xaxis": {
         "anchor": "y",
         "domain": [
          0,
          1
         ],
         "title": {
          "text": "Data"
         }
        },
        "yaxis": {
         "anchor": "x",
         "domain": [
          0,
          1
         ],
         "title": {
          "text": "VOLUME DA EMISSAO"
         }
        }
       }
      },
      "text/html": [
       "<div>                            <div id=\"2a693f0e-6378-4f88-b64e-763d8eb46c91\" class=\"plotly-graph-div\" style=\"height:525px; width:100%;\"></div>            <script type=\"text/javascript\">                require([\"plotly\"], function(Plotly) {                    window.PLOTLYENV=window.PLOTLYENV || {};                                    if (document.getElementById(\"2a693f0e-6378-4f88-b64e-763d8eb46c91\")) {                    Plotly.newPlot(                        \"2a693f0e-6378-4f88-b64e-763d8eb46c91\",                        [{\"alignmentgroup\":\"True\",\"hovertemplate\":\"Data=%{x}<br>VOLUME DA EMISSAO=%{y}<extra></extra>\",\"legendgroup\":\"\",\"marker\":{\"color\":\"#636efa\",\"pattern\":{\"shape\":\"\"}},\"name\":\"\",\"offsetgroup\":\"\",\"orientation\":\"v\",\"showlegend\":false,\"textposition\":\"auto\",\"x\":[\"2013-02-28\",\"2013-03-28\",\"2013-04-30\",\"2013-05-31\",\"2013-06-28\",\"2013-07-31\",\"2013-08-30\",\"2013-09-30\",\"2013-10-31\",\"2013-11-29\",\"2013-12-31\",\"2014-01-31\",\"2014-02-28\",\"2014-03-31\",\"2014-04-30\",\"2014-05-30\",\"2014-06-30\",\"2014-07-31\",\"2014-08-29\",\"2014-09-30\",\"2014-10-31\",\"2014-11-28\",\"2014-12-31\",\"2015-01-30\",\"2015-02-27\",\"2015-03-31\",\"2015-04-30\",\"2015-05-29\",\"2015-06-30\",\"2015-07-31\",\"2015-08-31\",\"2015-09-30\",\"2015-10-30\",\"2015-11-30\",\"2015-12-31\",\"2016-01-29\",\"2016-02-29\",\"2016-03-31\",\"2016-04-29\",\"2016-05-31\",\"2016-06-30\",\"2016-07-29\",\"2016-08-31\",\"2016-09-30\",\"2016-10-31\",\"2016-11-30\",\"2016-12-30\",\"2017-01-31\",\"2017-02-24\",\"2017-03-31\",\"2017-04-28\",\"2017-05-31\",\"2017-06-30\",\"2017-07-31\",\"2017-08-31\",\"2017-09-29\",\"2017-10-31\",\"2017-11-30\",\"2017-12-29\",\"2018-01-31\",\"2018-02-28\",\"2018-03-29\",\"2018-04-30\",\"2018-05-30\",\"2018-06-29\",\"2018-07-31\",\"2018-08-31\",\"2018-09-28\",\"2018-10-31\",\"2018-11-30\",\"2018-12-31\",\"2019-01-31\",\"2019-02-28\",\"2019-03-29\",\"2019-04-30\",\"2019-05-31\",\"2019-06-28\",\"2019-07-31\",\"2019-08-30\",\"2019-09-30\",\"2019-10-31\",\"2019-11-29\",\"2019-12-31\",\"2020-01-31\",\"2020-02-28\",\"2020-03-31\",\"2020-04-30\",\"2020-05-29\",\"2020-06-30\",\"2020-07-31\",\"2020-08-31\",\"2020-09-30\",\"2020-10-30\",\"2020-11-30\",\"2020-12-31\",\"2021-01-29\",\"2021-02-26\",\"2021-03-31\",\"2021-04-30\",\"2021-05-31\",\"2021-06-30\",\"2021-07-30\",\"2021-08-31\",\"2021-09-30\",\"2021-10-29\",\"2021-11-30\",\"2021-12-31\",\"2022-01-31\",\"2022-02-25\",\"2022-03-31\",\"2022-04-29\",\"2022-05-31\",\"2022-06-30\",\"2022-07-29\",\"2022-08-31\",\"2022-09-30\",\"2022-10-31\",\"2022-11-30\",\"2022-12-30\",\"2023-01-31\",\"2023-02-28\",\"2023-03-31\",\"2023-04-28\",\"2023-05-31\",\"2023-06-30\",\"2023-07-31\",\"2023-08-31\"],\"xaxis\":\"x\",\"y\":[97651600.57,358280149.89,249891539.47,78817792.7,207047563.03,714947535.57,385532223.8,2729708432.75,7440566327.79,105739405.58,977986880.39,93159737.35,2444554953.49,2388987126.34,66430399.45,355618121.89,1674019511.41,192216882.2,873067981.51,3065622413.98,423026087.16,796383666.39,2186171410.64,410905708.74,355367699.54,1553053984.82,180628446.61,1704744918.65,292127802.84,51709924.93,617177875.79,1149496790.21,244954072.2,458310740.32,1004352240.05,177733984.0,27334303.28,120000000.0,4304829241.799999,262689720.32,217583110.52,740660553.0,375136448.47,620532992.78,6763220761.54,290573920.0,1398394282.53,135663663.57999998,251328307.71,551388342.4,364097770.41,253940291.7,473364964.34,868098740.39,529011213.79,2671396392.33,1126800233.81,1142159225.21,1281098177.16,14800000.0,147047347.13,1364354979.66,361130372.93,853492527.89,963616100.49,634520552.42,1343420451.91,241313622.98,550944336.36,514003642.63,2464493523.19,717667907.2099999,859223065.39,930257913.41,416532390.52,2238570688.32,1269484714.86,2526229205.68,2447629405.65,1459708860.44,2213911152.92,2914511795.61,4649206658.5,1563781440.77,1163381807.0,884731338.4,681350000.0,538752076.66,1781147046.17,2684857004.86,1335802925.23,1573695619.42,1623673218.48,1273469248.08,3105096365.32,1326762410.08,1342387150.74,2317657476.63,4212368141.61,3086360968.11,3019202406.02,3752980193.9,4341123002.01,4024371082.66,4189014930.96,3889204034.97,5867284957.74,1686674463.28,3279271181.68,2793504575.05,4221170535.22,1279135527.65,7201482197.32,6903106726.0,6123864570.0,3968122188.97,4489707883.11,4679140090.0,5247422638.77,1048765353.4,1875426874.19,3279135813.45,1580524000.0,693150967.53,6251813192.47,2928285878.25,2718951548.0],\"yaxis\":\"y\",\"type\":\"bar\"},{\"name\":\"model predict\",\"x\":[\"2013-02-28\",\"2013-03-28\",\"2013-04-30\",\"2013-05-31\",\"2013-06-28\",\"2013-07-31\",\"2013-08-30\",\"2013-09-30\",\"2013-10-31\",\"2013-11-29\",\"2013-12-31\",\"2014-01-31\",\"2014-02-28\",\"2014-03-31\",\"2014-04-30\",\"2014-05-30\",\"2014-06-30\",\"2014-07-31\",\"2014-08-29\",\"2014-09-30\",\"2014-10-31\",\"2014-11-28\",\"2014-12-31\",\"2015-01-30\",\"2015-02-27\",\"2015-03-31\",\"2015-04-30\",\"2015-05-29\",\"2015-06-30\",\"2015-07-31\",\"2015-08-31\",\"2015-09-30\",\"2015-10-30\",\"2015-11-30\",\"2015-12-31\",\"2016-01-29\",\"2016-02-29\",\"2016-03-31\",\"2016-04-29\",\"2016-05-31\",\"2016-06-30\",\"2016-07-29\",\"2016-08-31\",\"2016-09-30\",\"2016-10-31\",\"2016-11-30\",\"2016-12-30\",\"2017-01-31\",\"2017-02-24\",\"2017-03-31\",\"2017-04-28\",\"2017-05-31\",\"2017-06-30\",\"2017-07-31\",\"2017-08-31\",\"2017-09-29\",\"2017-10-31\",\"2017-11-30\",\"2017-12-29\",\"2018-01-31\",\"2018-02-28\",\"2018-03-29\",\"2018-04-30\",\"2018-05-30\",\"2018-06-29\",\"2018-07-31\",\"2018-08-31\",\"2018-09-28\",\"2018-10-31\",\"2018-11-30\",\"2018-12-31\",\"2019-01-31\",\"2019-02-28\",\"2019-03-29\",\"2019-04-30\",\"2019-05-31\",\"2019-06-28\",\"2019-07-31\",\"2019-08-30\",\"2019-09-30\",\"2019-10-31\",\"2019-11-29\",\"2019-12-31\",\"2020-01-31\",\"2020-02-28\",\"2020-03-31\",\"2020-04-30\",\"2020-05-29\",\"2020-06-30\",\"2020-07-31\",\"2020-08-31\",\"2020-09-30\",\"2020-10-30\",\"2020-11-30\",\"2020-12-31\",\"2021-01-29\",\"2021-02-26\",\"2021-03-31\",\"2021-04-30\",\"2021-05-31\",\"2021-06-30\",\"2021-07-30\",\"2021-08-31\",\"2021-09-30\",\"2021-10-29\",\"2021-11-30\",\"2021-12-31\",\"2022-01-31\",\"2022-02-25\",\"2022-03-31\",\"2022-04-29\",\"2022-05-31\",\"2022-06-30\",\"2022-07-29\",\"2022-08-31\",\"2022-09-30\",\"2022-10-31\",\"2022-11-30\",\"2022-12-30\",\"2023-01-31\",\"2023-02-28\",\"2023-03-31\",\"2023-04-28\",\"2023-05-31\",\"2023-06-30\",\"2023-07-31\",\"2023-08-31\"],\"y\":[419752043.5017016,419752043.5017016,426758587.8232736,364842734.522708,317963489.31943023,1221186315.3364885,931399081.136101,1687161864.3821115,5148424923.347506,1704621732.7178988,1203726447.0007012,869504334.876319,1481160123.9815125,1448932389.8946526,796021477.4074235,636677725.4420706,1489220305.7094295,184628114.700467,698620889.7032702,3682402386.532944,536633897.8742056,683763001.6740044,1183462263.338756,776459191.9068964,677265084.6897058,1378790497.533906,262753261.87509915,1474530116.184795,285132216.42788315,328809974.5765476,334968336.8282144,785631900.8828893,373501890.60292554,246191935.70197508,893670000.6318597,295596107.91910076,603243942.4172914,284803513.33258295,3907580555.285199,45830229.23738141,-48926236.763298005,1137137698.779369,1005945476.9897691,1108164722.6194842,5030643466.474912,387279472.33717453,1253039070.5209148,790797551.1758555,215801317.7328609,550631658.2240634,579994587.7008046,353661957.7128442,336030557.9133754,1002205941.8200277,320951332.6044769,2252977980.208686,1233022354.9580917,1630565675.5324173,1215783239.2880228,167289440.16734707,142498250.87686238,1208245811.572841,472669054.8658549,609600920.7945963,767599393.6754034,630278421.9700688,1221793266.2274716,426480240.3242296,590631502.503354,948844184.5664207,1965267634.0473151,933008196.5252324,1072068198.4482207,1061309996.6041505,618103341.2730477,1775613110.098722,1378859007.9162567,2338804911.226955,2251690985.0710096,1748463046.4188132,2145909275.3502543,3145500670.9922585,4228857471.267088,1682410362.5862756,1073366289.7956134,970502748.9433267,554283082.2392293,1097339978.191137,1693458440.267512,2305223565.4379916,1429309677.397255,1781369402.3725526,1532959261.992009,1713250450.5317683,2442500170.0738134,1597820819.8743122,1386003408.3111656,2212556735.600944,3967728594.5060244,3511686923.2826853,2576576933.6599116,3864235147.4548006,4228628660.7561126,4109740497.5228915,4266731336.9621077,3872175573.8066807,5792003195.825149,2010924168.1316485,3301719630.490327,2812524280.5084624,3708010263.531007,2159045167.9916577,6663555177.840074,6828441995.387484,5977173341.285679,4327788059.106274,4179895771.7974486,4331294178.724978,4467939725.426089,1295337765.3098795,2118967672.1137233,3160002012.1506915,2042897151.8250747,1155579933.0106516,1987203013.7539458,1912510828.7904313,2795351351.794916],\"type\":\"scatter\"}],                        {\"template\":{\"data\":{\"histogram2dcontour\":[{\"type\":\"histogram2dcontour\",\"colorbar\":{\"outlinewidth\":0,\"ticks\":\"\"},\"colorscale\":[[0.0,\"#0d0887\"],[0.1111111111111111,\"#46039f\"],[0.2222222222222222,\"#7201a8\"],[0.3333333333333333,\"#9c179e\"],[0.4444444444444444,\"#bd3786\"],[0.5555555555555556,\"#d8576b\"],[0.6666666666666666,\"#ed7953\"],[0.7777777777777778,\"#fb9f3a\"],[0.8888888888888888,\"#fdca26\"],[1.0,\"#f0f921\"]]}],\"choropleth\":[{\"type\":\"choropleth\",\"colorbar\":{\"outlinewidth\":0,\"ticks\":\"\"}}],\"histogram2d\":[{\"type\":\"histogram2d\",\"colorbar\":{\"outlinewidth\":0,\"ticks\":\"\"},\"colorscale\":[[0.0,\"#0d0887\"],[0.1111111111111111,\"#46039f\"],[0.2222222222222222,\"#7201a8\"],[0.3333333333333333,\"#9c179e\"],[0.4444444444444444,\"#bd3786\"],[0.5555555555555556,\"#d8576b\"],[0.6666666666666666,\"#ed7953\"],[0.7777777777777778,\"#fb9f3a\"],[0.8888888888888888,\"#fdca26\"],[1.0,\"#f0f921\"]]}],\"heatmap\":[{\"type\":\"heatmap\",\"colorbar\":{\"outlinewidth\":0,\"ticks\":\"\"},\"colorscale\":[[0.0,\"#0d0887\"],[0.1111111111111111,\"#46039f\"],[0.2222222222222222,\"#7201a8\"],[0.3333333333333333,\"#9c179e\"],[0.4444444444444444,\"#bd3786\"],[0.5555555555555556,\"#d8576b\"],[0.6666666666666666,\"#ed7953\"],[0.7777777777777778,\"#fb9f3a\"],[0.8888888888888888,\"#fdca26\"],[1.0,\"#f0f921\"]]}],\"heatmapgl\":[{\"type\":\"heatmapgl\",\"colorbar\":{\"outlinewidth\":0,\"ticks\":\"\"},\"colorscale\":[[0.0,\"#0d0887\"],[0.1111111111111111,\"#46039f\"],[0.2222222222222222,\"#7201a8\"],[0.3333333333333333,\"#9c179e\"],[0.4444444444444444,\"#bd3786\"],[0.5555555555555556,\"#d8576b\"],[0.6666666666666666,\"#ed7953\"],[0.7777777777777778,\"#fb9f3a\"],[0.8888888888888888,\"#fdca26\"],[1.0,\"#f0f921\"]]}],\"contourcarpet\":[{\"type\":\"contourcarpet\",\"colorbar\":{\"outlinewidth\":0,\"ticks\":\"\"}}],\"contour\":[{\"type\":\"contour\",\"colorbar\":{\"outlinewidth\":0,\"ticks\":\"\"},\"colorscale\":[[0.0,\"#0d0887\"],[0.1111111111111111,\"#46039f\"],[0.2222222222222222,\"#7201a8\"],[0.3333333333333333,\"#9c179e\"],[0.4444444444444444,\"#bd3786\"],[0.5555555555555556,\"#d8576b\"],[0.6666666666666666,\"#ed7953\"],[0.7777777777777778,\"#fb9f3a\"],[0.8888888888888888,\"#fdca26\"],[1.0,\"#f0f921\"]]}],\"surface\":[{\"type\":\"surface\",\"colorbar\":{\"outlinewidth\":0,\"ticks\":\"\"},\"colorscale\":[[0.0,\"#0d0887\"],[0.1111111111111111,\"#46039f\"],[0.2222222222222222,\"#7201a8\"],[0.3333333333333333,\"#9c179e\"],[0.4444444444444444,\"#bd3786\"],[0.5555555555555556,\"#d8576b\"],[0.6666666666666666,\"#ed7953\"],[0.7777777777777778,\"#fb9f3a\"],[0.8888888888888888,\"#fdca26\"],[1.0,\"#f0f921\"]]}],\"mesh3d\":[{\"type\":\"mesh3d\",\"colorbar\":{\"outlinewidth\":0,\"ticks\":\"\"}}],\"scatter\":[{\"fillpattern\":{\"fillmode\":\"overlay\",\"size\":10,\"solidity\":0.2},\"type\":\"scatter\"}],\"parcoords\":[{\"type\":\"parcoords\",\"line\":{\"colorbar\":{\"outlinewidth\":0,\"ticks\":\"\"}}}],\"scatterpolargl\":[{\"type\":\"scatterpolargl\",\"marker\":{\"colorbar\":{\"outlinewidth\":0,\"ticks\":\"\"}}}],\"bar\":[{\"error_x\":{\"color\":\"#2a3f5f\"},\"error_y\":{\"color\":\"#2a3f5f\"},\"marker\":{\"line\":{\"color\":\"#E5ECF6\",\"width\":0.5},\"pattern\":{\"fillmode\":\"overlay\",\"size\":10,\"solidity\":0.2}},\"type\":\"bar\"}],\"scattergeo\":[{\"type\":\"scattergeo\",\"marker\":{\"colorbar\":{\"outlinewidth\":0,\"ticks\":\"\"}}}],\"scatterpolar\":[{\"type\":\"scatterpolar\",\"marker\":{\"colorbar\":{\"outlinewidth\":0,\"ticks\":\"\"}}}],\"histogram\":[{\"marker\":{\"pattern\":{\"fillmode\":\"overlay\",\"size\":10,\"solidity\":0.2}},\"type\":\"histogram\"}],\"scattergl\":[{\"type\":\"scattergl\",\"marker\":{\"colorbar\":{\"outlinewidth\":0,\"ticks\":\"\"}}}],\"scatter3d\":[{\"type\":\"scatter3d\",\"line\":{\"colorbar\":{\"outlinewidth\":0,\"ticks\":\"\"}},\"marker\":{\"colorbar\":{\"outlinewidth\":0,\"ticks\":\"\"}}}],\"scattermapbox\":[{\"type\":\"scattermapbox\",\"marker\":{\"colorbar\":{\"outlinewidth\":0,\"ticks\":\"\"}}}],\"scatterternary\":[{\"type\":\"scatterternary\",\"marker\":{\"colorbar\":{\"outlinewidth\":0,\"ticks\":\"\"}}}],\"scattercarpet\":[{\"type\":\"scattercarpet\",\"marker\":{\"colorbar\":{\"outlinewidth\":0,\"ticks\":\"\"}}}],\"carpet\":[{\"aaxis\":{\"endlinecolor\":\"#2a3f5f\",\"gridcolor\":\"white\",\"linecolor\":\"white\",\"minorgridcolor\":\"white\",\"startlinecolor\":\"#2a3f5f\"},\"baxis\":{\"endlinecolor\":\"#2a3f5f\",\"gridcolor\":\"white\",\"linecolor\":\"white\",\"minorgridcolor\":\"white\",\"startlinecolor\":\"#2a3f5f\"},\"type\":\"carpet\"}],\"table\":[{\"cells\":{\"fill\":{\"color\":\"#EBF0F8\"},\"line\":{\"color\":\"white\"}},\"header\":{\"fill\":{\"color\":\"#C8D4E3\"},\"line\":{\"color\":\"white\"}},\"type\":\"table\"}],\"barpolar\":[{\"marker\":{\"line\":{\"color\":\"#E5ECF6\",\"width\":0.5},\"pattern\":{\"fillmode\":\"overlay\",\"size\":10,\"solidity\":0.2}},\"type\":\"barpolar\"}],\"pie\":[{\"automargin\":true,\"type\":\"pie\"}]},\"layout\":{\"autotypenumbers\":\"strict\",\"colorway\":[\"#636efa\",\"#EF553B\",\"#00cc96\",\"#ab63fa\",\"#FFA15A\",\"#19d3f3\",\"#FF6692\",\"#B6E880\",\"#FF97FF\",\"#FECB52\"],\"font\":{\"color\":\"#2a3f5f\"},\"hovermode\":\"closest\",\"hoverlabel\":{\"align\":\"left\"},\"paper_bgcolor\":\"white\",\"plot_bgcolor\":\"#E5ECF6\",\"polar\":{\"bgcolor\":\"#E5ECF6\",\"angularaxis\":{\"gridcolor\":\"white\",\"linecolor\":\"white\",\"ticks\":\"\"},\"radialaxis\":{\"gridcolor\":\"white\",\"linecolor\":\"white\",\"ticks\":\"\"}},\"ternary\":{\"bgcolor\":\"#E5ECF6\",\"aaxis\":{\"gridcolor\":\"white\",\"linecolor\":\"white\",\"ticks\":\"\"},\"baxis\":{\"gridcolor\":\"white\",\"linecolor\":\"white\",\"ticks\":\"\"},\"caxis\":{\"gridcolor\":\"white\",\"linecolor\":\"white\",\"ticks\":\"\"}},\"coloraxis\":{\"colorbar\":{\"outlinewidth\":0,\"ticks\":\"\"}},\"colorscale\":{\"sequential\":[[0.0,\"#0d0887\"],[0.1111111111111111,\"#46039f\"],[0.2222222222222222,\"#7201a8\"],[0.3333333333333333,\"#9c179e\"],[0.4444444444444444,\"#bd3786\"],[0.5555555555555556,\"#d8576b\"],[0.6666666666666666,\"#ed7953\"],[0.7777777777777778,\"#fb9f3a\"],[0.8888888888888888,\"#fdca26\"],[1.0,\"#f0f921\"]],\"sequentialminus\":[[0.0,\"#0d0887\"],[0.1111111111111111,\"#46039f\"],[0.2222222222222222,\"#7201a8\"],[0.3333333333333333,\"#9c179e\"],[0.4444444444444444,\"#bd3786\"],[0.5555555555555556,\"#d8576b\"],[0.6666666666666666,\"#ed7953\"],[0.7777777777777778,\"#fb9f3a\"],[0.8888888888888888,\"#fdca26\"],[1.0,\"#f0f921\"]],\"diverging\":[[0,\"#8e0152\"],[0.1,\"#c51b7d\"],[0.2,\"#de77ae\"],[0.3,\"#f1b6da\"],[0.4,\"#fde0ef\"],[0.5,\"#f7f7f7\"],[0.6,\"#e6f5d0\"],[0.7,\"#b8e186\"],[0.8,\"#7fbc41\"],[0.9,\"#4d9221\"],[1,\"#276419\"]]},\"xaxis\":{\"gridcolor\":\"white\",\"linecolor\":\"white\",\"ticks\":\"\",\"title\":{\"standoff\":15},\"zerolinecolor\":\"white\",\"automargin\":true,\"zerolinewidth\":2},\"yaxis\":{\"gridcolor\":\"white\",\"linecolor\":\"white\",\"ticks\":\"\",\"title\":{\"standoff\":15},\"zerolinecolor\":\"white\",\"automargin\":true,\"zerolinewidth\":2},\"scene\":{\"xaxis\":{\"backgroundcolor\":\"#E5ECF6\",\"gridcolor\":\"white\",\"linecolor\":\"white\",\"showbackground\":true,\"ticks\":\"\",\"zerolinecolor\":\"white\",\"gridwidth\":2},\"yaxis\":{\"backgroundcolor\":\"#E5ECF6\",\"gridcolor\":\"white\",\"linecolor\":\"white\",\"showbackground\":true,\"ticks\":\"\",\"zerolinecolor\":\"white\",\"gridwidth\":2},\"zaxis\":{\"backgroundcolor\":\"#E5ECF6\",\"gridcolor\":\"white\",\"linecolor\":\"white\",\"showbackground\":true,\"ticks\":\"\",\"zerolinecolor\":\"white\",\"gridwidth\":2}},\"shapedefaults\":{\"line\":{\"color\":\"#2a3f5f\"}},\"annotationdefaults\":{\"arrowcolor\":\"#2a3f5f\",\"arrowhead\":0,\"arrowwidth\":1},\"geo\":{\"bgcolor\":\"white\",\"landcolor\":\"#E5ECF6\",\"subunitcolor\":\"white\",\"showland\":true,\"showlakes\":true,\"lakecolor\":\"white\"},\"title\":{\"x\":0.05},\"mapbox\":{\"style\":\"light\"}}},\"xaxis\":{\"anchor\":\"y\",\"domain\":[0.0,1.0],\"title\":{\"text\":\"Data\"}},\"yaxis\":{\"anchor\":\"x\",\"domain\":[0.0,1.0],\"title\":{\"text\":\"VOLUME DA EMISSAO\"}},\"legend\":{\"tracegroupgap\":0},\"margin\":{\"t\":60},\"barmode\":\"relative\"},                        {\"responsive\": true}                    ).then(function(){\n",
       "                            \n",
       "var gd = document.getElementById('2a693f0e-6378-4f88-b64e-763d8eb46c91');\n",
       "var x = new MutationObserver(function (mutations, observer) {{\n",
       "        var display = window.getComputedStyle(gd).display;\n",
       "        if (!display || display === 'none') {{\n",
       "            console.log([gd, 'removed!']);\n",
       "            Plotly.purge(gd);\n",
       "            observer.disconnect();\n",
       "        }}\n",
       "}});\n",
       "\n",
       "// Listen for the removal of the full notebook cells\n",
       "var notebookContainer = gd.closest('#notebook-container');\n",
       "if (notebookContainer) {{\n",
       "    x.observe(notebookContainer, {childList: true});\n",
       "}}\n",
       "\n",
       "// Listen for the clearing of the current output cell\n",
       "var outputEl = gd.closest('.output');\n",
       "if (outputEl) {{\n",
       "    x.observe(outputEl, {childList: true});\n",
       "}}\n",
       "\n",
       "                        })                };                });            </script>        </div>"
      ]
     },
     "metadata": {},
     "output_type": "display_data"
    }
   ],
   "source": [
    "training_df, X_train, y_train = split_data(df, '2013-02-01', '2023-09-31')\n",
    "\n",
    "y_pred = model_crossval.predict(X_train)\n",
    "training_df['ypred'] = y_pred\n",
    "    \n",
    "# Plot \n",
    "fig = px.bar(training_df, x='Data', y='VOLUME DA EMISSAO')\n",
    "\n",
    "fig.add_scatter(x=training_df['Data'], \n",
    "                y=training_df['ypred'], name = 'model predict') # Not what is desired - need a line \n",
    "\n",
    "# Show plot \n",
    "fig.show()"
   ]
  },
  {
   "cell_type": "code",
   "execution_count": 88,
   "id": "7a84335a",
   "metadata": {},
   "outputs": [
    {
     "data": {
      "text/plain": [
       "{'mse': '214169938925226432.00000000',\n",
       " 'mae': '315299183.80668759',\n",
       " 'rmse': '462784981.30905938',\n",
       " 'r2': '0.92763957'}"
      ]
     },
     "execution_count": 88,
     "metadata": {},
     "output_type": "execute_result"
    }
   ],
   "source": [
    "def calc_(model, df, train_X, train_y):\n",
    "    \n",
    "    y_pred = model.predict(X_train)\n",
    "    #df['ypred'] = ypred\n",
    "\n",
    "    evals_result = {\n",
    "            \"mse\" : format(mean_squared_error(train_y, y_pred), '.8f'),\n",
    "            \"mae\" : format(mean_absolute_error(train_y, y_pred), '.8f'),\n",
    "            \"rmse\" : format(np.sqrt(mean_squared_error(train_y, y_pred)), '.8f'),\n",
    "            \"r2\" : format(r2_score(train_y, y_pred), '.8f')\n",
    "        }\n",
    "    return evals_result\n",
    "\n",
    "evals_result_training = calc_(model_crossval,training_df, X_train, y_train)\n",
    "evals_result_training"
   ]
  },
  {
   "cell_type": "code",
   "execution_count": null,
   "id": "6ce6792e",
   "metadata": {},
   "outputs": [],
   "source": []
  },
  {
   "cell_type": "code",
   "execution_count": 104,
   "id": "7bf148dc",
   "metadata": {},
   "outputs": [
    {
     "data": {
      "text/plain": [
       "2795351351.794916"
      ]
     },
     "execution_count": 104,
     "metadata": {},
     "output_type": "execute_result"
    }
   ],
   "source": [
    "y_pred_test = model_crossval.predict(X_test)\n",
    "y_pred_test[2]"
   ]
  },
  {
   "cell_type": "code",
   "execution_count": 97,
   "id": "a552f090",
   "metadata": {},
   "outputs": [
    {
     "name": "stdout",
     "output_type": "stream",
     "text": [
      "6408178619177689088.00000000\n",
      "1785595010.65684628\n",
      "2531438053.5927973 .8f\n",
      "-1.44682788\n"
     ]
    }
   ],
   "source": [
    "print(format(mean_squared_error(y_test, y_pred), '.8f'))\n",
    "print(format(mean_absolute_error(y_test, y_pred), '.8f'))\n",
    "print(format(np.sqrt(mean_squared_error(y_test, y_pred))), '.8f')\n",
    "print(format(r2_score(y_test, y_pred), '.8f'))"
   ]
  },
  {
   "cell_type": "code",
   "execution_count": null,
   "id": "d1bfb4e2",
   "metadata": {},
   "outputs": [],
   "source": []
  },
  {
   "cell_type": "code",
   "execution_count": null,
   "id": "ebd7758a",
   "metadata": {},
   "outputs": [],
   "source": []
  },
  {
   "cell_type": "code",
   "execution_count": null,
   "id": "33049163",
   "metadata": {},
   "outputs": [],
   "source": []
  },
  {
   "cell_type": "code",
   "execution_count": null,
   "id": "036f8d08",
   "metadata": {},
   "outputs": [],
   "source": []
  },
  {
   "cell_type": "code",
   "execution_count": null,
   "id": "a0f51ed2",
   "metadata": {},
   "outputs": [],
   "source": []
  },
  {
   "cell_type": "code",
   "execution_count": null,
   "id": "efe3d137",
   "metadata": {},
   "outputs": [],
   "source": []
  },
  {
   "cell_type": "code",
   "execution_count": null,
   "id": "d7dbd413",
   "metadata": {},
   "outputs": [],
   "source": []
  },
  {
   "cell_type": "code",
   "execution_count": null,
   "id": "836f42a3",
   "metadata": {},
   "outputs": [],
   "source": []
  },
  {
   "cell_type": "code",
   "execution_count": 73,
   "id": "895d54df",
   "metadata": {},
   "outputs": [],
   "source": [
    "# #training_df['y_pred_model1'] =  y_pred\n",
    "# training_df['target'] = training_df['VOLUME DA EMISSAO']\n",
    "# training_df\n"
   ]
  },
  {
   "cell_type": "code",
   "execution_count": null,
   "id": "17ff696d",
   "metadata": {},
   "outputs": [],
   "source": [
    "\n",
    "#print(\"Mean Squared Error:\", format(mse, '.8f'))"
   ]
  },
  {
   "cell_type": "code",
   "execution_count": null,
   "id": "2daa2e2a",
   "metadata": {},
   "outputs": [],
   "source": []
  },
  {
   "cell_type": "code",
   "execution_count": null,
   "id": "2bc4d1a9",
   "metadata": {},
   "outputs": [],
   "source": []
  },
  {
   "cell_type": "code",
   "execution_count": null,
   "id": "68b34368",
   "metadata": {},
   "outputs": [],
   "source": []
  },
  {
   "cell_type": "code",
   "execution_count": 62,
   "id": "7599d7b6",
   "metadata": {},
   "outputs": [],
   "source": []
  },
  {
   "cell_type": "code",
   "execution_count": 63,
   "id": "aa42096d",
   "metadata": {},
   "outputs": [],
   "source": [
    "#y_train"
   ]
  },
  {
   "cell_type": "code",
   "execution_count": null,
   "id": "a72f2e3e",
   "metadata": {},
   "outputs": [],
   "source": []
  },
  {
   "cell_type": "code",
   "execution_count": null,
   "id": "89d5916c",
   "metadata": {},
   "outputs": [],
   "source": []
  },
  {
   "cell_type": "code",
   "execution_count": null,
   "id": "5d0c8e85",
   "metadata": {},
   "outputs": [],
   "source": []
  },
  {
   "cell_type": "code",
   "execution_count": null,
   "id": "cd05ab7f",
   "metadata": {},
   "outputs": [],
   "source": []
  },
  {
   "cell_type": "code",
   "execution_count": null,
   "id": "99c3731b",
   "metadata": {},
   "outputs": [],
   "source": []
  },
  {
   "cell_type": "code",
   "execution_count": null,
   "id": "899b3c47",
   "metadata": {},
   "outputs": [],
   "source": []
  },
  {
   "cell_type": "code",
   "execution_count": null,
   "id": "9a4c748a",
   "metadata": {},
   "outputs": [],
   "source": []
  },
  {
   "cell_type": "code",
   "execution_count": null,
   "id": "1dd52d85",
   "metadata": {},
   "outputs": [],
   "source": []
  },
  {
   "cell_type": "markdown",
   "id": "8f4201d9",
   "metadata": {},
   "source": []
  }
 ],
 "metadata": {
  "kernelspec": {
   "display_name": "Python 3 (ipykernel)",
   "language": "python",
   "name": "python3"
  },
  "language_info": {
   "codemirror_mode": {
    "name": "ipython",
    "version": 3
   },
   "file_extension": ".py",
   "mimetype": "text/x-python",
   "name": "python",
   "nbconvert_exporter": "python",
   "pygments_lexer": "ipython3",
   "version": "3.10.9"
  }
 },
 "nbformat": 4,
 "nbformat_minor": 5
}
